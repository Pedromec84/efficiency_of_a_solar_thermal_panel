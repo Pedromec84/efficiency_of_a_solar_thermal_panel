{
  "nbformat": 4,
  "nbformat_minor": 0,
  "metadata": {
    "colab": {
      "provenance": []
    },
    "kernelspec": {
      "name": "python3",
      "display_name": "Python 3"
    },
    "language_info": {
      "name": "python"
    }
  },
  "cells": [
    {
      "cell_type": "markdown",
      "source": [
        "\n",
        "Código para o balanço térmico e análise de eficiencia de um painel solar térmico.\n",
        "\n",
        "Parte I - Estimativa da radiação solar utilizando a biblioteca PVLIB\n",
        "\n",
        "As informações da biblioteca PVLIB podem ser acessadas no seguinte endereço: https://pvlib-python.readthedocs.io/en/stable/index.html\n",
        "\n",
        "A função utilizada para encontrar a irradiância total da biblioteca PVLIB pode ser acessada no seguinte endereço:\n",
        "https://pvlib-python.readthedocs.io/en/stable/reference/generated/pvlib.irradiance.get_total_irradiance.html\n",
        "\n"
      ],
      "metadata": {
        "id": "SoLfDy7zST6H"
      }
    },
    {
      "cell_type": "code",
      "source": [
        "!pip install pvlib\n",
        "!pip install ht\n",
        "!pip install CoolProp"
      ],
      "metadata": {
        "colab": {
          "base_uri": "https://localhost:8080/"
        },
        "id": "aCXVDQ6YpdkF",
        "outputId": "5a7ca356-1fa9-4093-b5d2-ef2974537bf5"
      },
      "execution_count": 2,
      "outputs": [
        {
          "output_type": "stream",
          "name": "stdout",
          "text": [
            "Looking in indexes: https://pypi.org/simple, https://us-python.pkg.dev/colab-wheels/public/simple/\n",
            "Collecting pvlib\n",
            "  Downloading pvlib-0.9.5-py3-none-any.whl (29.4 MB)\n",
            "\u001b[2K     \u001b[90m━━━━━━━━━━━━━━━━━━━━━━━━━━━━━━━━━━━━━━━━\u001b[0m \u001b[32m29.4/29.4 MB\u001b[0m \u001b[31m46.2 MB/s\u001b[0m eta \u001b[36m0:00:00\u001b[0m\n",
            "\u001b[?25hRequirement already satisfied: numpy>=1.16.0 in /usr/local/lib/python3.10/dist-packages (from pvlib) (1.22.4)\n",
            "Requirement already satisfied: h5py in /usr/local/lib/python3.10/dist-packages (from pvlib) (3.8.0)\n",
            "Requirement already satisfied: pytz in /usr/local/lib/python3.10/dist-packages (from pvlib) (2022.7.1)\n",
            "Requirement already satisfied: pandas>=0.25.0 in /usr/local/lib/python3.10/dist-packages (from pvlib) (1.5.3)\n",
            "Requirement already satisfied: requests in /usr/local/lib/python3.10/dist-packages (from pvlib) (2.27.1)\n",
            "Requirement already satisfied: scipy>=1.4.0 in /usr/local/lib/python3.10/dist-packages (from pvlib) (1.10.1)\n",
            "Requirement already satisfied: python-dateutil>=2.8.1 in /usr/local/lib/python3.10/dist-packages (from pandas>=0.25.0->pvlib) (2.8.2)\n",
            "Requirement already satisfied: charset-normalizer~=2.0.0 in /usr/local/lib/python3.10/dist-packages (from requests->pvlib) (2.0.12)\n",
            "Requirement already satisfied: certifi>=2017.4.17 in /usr/local/lib/python3.10/dist-packages (from requests->pvlib) (2022.12.7)\n",
            "Requirement already satisfied: idna<4,>=2.5 in /usr/local/lib/python3.10/dist-packages (from requests->pvlib) (3.4)\n",
            "Requirement already satisfied: urllib3<1.27,>=1.21.1 in /usr/local/lib/python3.10/dist-packages (from requests->pvlib) (1.26.15)\n",
            "Requirement already satisfied: six>=1.5 in /usr/local/lib/python3.10/dist-packages (from python-dateutil>=2.8.1->pandas>=0.25.0->pvlib) (1.16.0)\n",
            "Installing collected packages: pvlib\n",
            "Successfully installed pvlib-0.9.5\n",
            "Looking in indexes: https://pypi.org/simple, https://us-python.pkg.dev/colab-wheels/public/simple/\n",
            "Collecting ht\n",
            "  Downloading ht-1.0.4-py3-none-any.whl (811 kB)\n",
            "\u001b[2K     \u001b[90m━━━━━━━━━━━━━━━━━━━━━━━━━━━━━━━━━━━━━━\u001b[0m \u001b[32m811.3/811.3 kB\u001b[0m \u001b[31m12.5 MB/s\u001b[0m eta \u001b[36m0:00:00\u001b[0m\n",
            "\u001b[?25hCollecting fluids>=1.0.23\n",
            "  Downloading fluids-1.0.23-py3-none-any.whl (1.5 MB)\n",
            "\u001b[2K     \u001b[90m━━━━━━━━━━━━━━━━━━━━━━━━━━━━━━━━━━━━━━━━\u001b[0m \u001b[32m1.5/1.5 MB\u001b[0m \u001b[31m56.6 MB/s\u001b[0m eta \u001b[36m0:00:00\u001b[0m\n",
            "\u001b[?25hRequirement already satisfied: scipy>=0.9.0 in /usr/local/lib/python3.10/dist-packages (from ht) (1.10.1)\n",
            "Requirement already satisfied: numpy>=1.5.0 in /usr/local/lib/python3.10/dist-packages (from ht) (1.22.4)\n",
            "Installing collected packages: fluids, ht\n",
            "Successfully installed fluids-1.0.23 ht-1.0.4\n",
            "Looking in indexes: https://pypi.org/simple, https://us-python.pkg.dev/colab-wheels/public/simple/\n",
            "Collecting CoolProp\n",
            "  Downloading CoolProp-6.4.3.post1-cp310-cp310-manylinux_2_17_x86_64.manylinux2014_x86_64.whl (6.1 MB)\n",
            "\u001b[2K     \u001b[90m━━━━━━━━━━━━━━━━━━━━━━━━━━━━━━━━━━━━━━━━\u001b[0m \u001b[32m6.1/6.1 MB\u001b[0m \u001b[31m48.3 MB/s\u001b[0m eta \u001b[36m0:00:00\u001b[0m\n",
            "\u001b[?25hInstalling collected packages: CoolProp\n",
            "Successfully installed CoolProp-6.4.3.post1\n"
          ]
        }
      ]
    },
    {
      "cell_type": "code",
      "source": [
        "import pandas as pd\n",
        "import pvlib\n",
        "\n",
        "# Criando uma série temporal com dados meteorológicos\n",
        "tz = 'Etc/GMT+3'  # Fuso horário\n",
        "\n",
        "#No Google maps, a latitude e a longitude podem ser obtidas clicando com o botão direito no local desejado. E utilizando o Google Earth, as informações de latitude e a longitude estão disponíveis no canto inferior direito da tela.\n",
        "lat = -23.557787584590784  # Latitude. \n",
        "lon = -46.73445560946659 # Longitude\n",
        "alt = 730  # Altitude em metros. Utilizando o Google Earth, no canto inferior direito pode-se obter a altitude local.\n",
        "\n",
        "# Definindo as características da superfície inclinada\n",
        "surface_tilt = -23  # Inclinação em graus\n",
        "surface_azimuth = 180  # Azimute em graus\n",
        "\n",
        "date_range = pd.date_range(start='2021-01-01 00:00:00', end='2022-12-31 23:59:59', freq='1min', tz=tz)\n",
        "solpos = pvlib.solarposition.get_solarposition(date_range, lat, lon)\n",
        "dni_extra = pvlib.irradiance.get_extra_radiation(date_range)\n",
        "pressure = pvlib.atmosphere.alt2pres(alt)\n",
        "airmass = pvlib.atmosphere.get_relative_airmass(solpos['apparent_zenith'])\n",
        "pressure_corr = pvlib.atmosphere.get_absolute_airmass(airmass, pressure)\n",
        "linke_turbidity = pvlib.clearsky.lookup_linke_turbidity(date_range, lat, lon)\n",
        "solar_zenith = solpos['apparent_zenith']\n",
        "solar_azimuth = solpos['azimuth']\n",
        "diffuse_frac = pvlib.irradiance.get_ground_diffuse(surface_tilt, solar_azimuth)\n",
        "\n",
        "# Calculando a irradiação solar em superfície inclinada com o modelo de Perez\n",
        "dni = pvlib.irradiance.get_total_irradiance(surface_tilt, surface_azimuth, solar_zenith, solar_azimuth,\n",
        "                                            dni_extra, linke_turbidity, diffuse_frac, pressure_corr,\n",
        "                                            model='perez')\n",
        "\n",
        "# Obtendo a irradiância total em superfície inclinada a partir do dicionário retornado\n",
        "irrad_total = dni['poa_global']\n",
        "\n",
        "# Calculando a média da irradiância total na superfície\n",
        "irrad_total_media = dni['poa_global'].mean()\n",
        "\n",
        "# Imprimindo o valor da média da irradiância total na superfície em W/m²\n",
        "print(f\"Irradiância total média na superfície: {irrad_total_media:.2f} W/m²\")\n"
      ],
      "metadata": {
        "colab": {
          "base_uri": "https://localhost:8080/"
        },
        "id": "SSRfcL82pRdy",
        "outputId": "e00e1689-e3ca-4f3a-add5-4585d07f3f41"
      },
      "execution_count": 3,
      "outputs": [
        {
          "output_type": "stream",
          "name": "stdout",
          "text": [
            "Irradiância total média na superfície: 419.63 W/m²\n"
          ]
        }
      ]
    },
    {
      "cell_type": "markdown",
      "source": [
        "Parte II - Thermal analysis of flat plate collectors.\n",
        "As informações da biblioteca PVLIB podem ser acessadas no seguinte endereço: https://ht.readthedocs.io/en/latest/index.html"
      ],
      "metadata": {
        "id": "Llm6P27qeg2_"
      }
    },
    {
      "cell_type": "code",
      "source": [
        "import ht\n",
        "import CoolProp.CoolProp as CP\n",
        "\n",
        "# Get fluid properties from CoolProp\n",
        "fluid = input(\"Enter the fluid type (e.g. water, air): \")\n",
        "T_inf = float(input(\"Enter the fluid temperature [°C]: \"))\n",
        "Ta = float(input(\"Enter the ambient temperature [°C]: \"))\n",
        "T_p = float(input(\"Enter the plate temperature [°C]: \"))\n",
        "p_inf = float(input(\"Enter the fluid pressure [bar]: \"))\n",
        "g = 9.81 #m/s^2\n",
        "L = float(input(\"Enter the characteristic length of the plate [m]: \"))\n",
        "W = float(input(\"Enter the characteristic width of the plate [m]: \"))\n",
        "\n",
        "#Dependendo da correlação que será utilizada, as propriedades dos fluidos derão ser avaliadas na temperatura média do fuido, Tf =(T_inf+T_s)/2\n",
        "T_f =(T_inf+T_p)/2\n",
        "rho = CP.PropsSI(\"D\", \"T\", T_f + 273.15, \"P\", p_inf * 1e5, fluid)\n",
        "k = CP.PropsSI(\"conductivity\", \"T\", T_f + 273.15, \"P\", p_inf * 1e5, fluid)\n",
        "mu = CP.PropsSI(\"viscosity\", \"T\", T_f + 273.15, \"P\", p_inf * 1e5, fluid)\n",
        "nu = mu/rho\n",
        "Pr = CP.PropsSI(\"Prandtl\", \"T\", T_f + 273.15, \"P\", p_inf * 1e5, fluid)\n",
        "cp = CP.PropsSI(\"CPMASS\", \"T\", T_f + 273.15, \"P\", p_inf * 1e5, fluid)\n",
        "beta = CP.PropsSI(\"ISOBARIC_EXPANSION_COEFFICIENT\", \"T\", T_f + 273.15, \"P\", p_inf * 1e5, fluid)\n",
        "alpha = k / (rho * cp)\n",
        "\n",
        "A = L*W # area of the flat-plate solar collector\n",
        "# Calculate Grashof number \n",
        "def calc_grashof(T_p, T_inf, g, L):\n",
        "    Gr = (g * beta * (T_p - T_inf) * L**3) / (nu**2)\n",
        "    return Gr\n",
        "\n",
        "Gr = calc_grashof(T_p, T_inf, g, L)\n",
        "\n",
        "# Calculate Rayleigh number \n",
        "def calc_rayleigh(T_p, T_inf, g, L, alpha):\n",
        "    Ra = (g * beta * (T_p - T_inf) * L**3) / (nu*alpha)\n",
        "    return Ra\n",
        "\n",
        "Ra = calc_rayleigh(T_p, T_inf, g, L, alpha)\n",
        "\n",
        "# Print fluid properties\n",
        "print('The specific mass is: '+str(round(rho ,5))+' kg/m^3')\n",
        "print('The thermal conditivity: '+str(round(k ,5))+' W/(m-K)')\n",
        "print(f\"The absolut viscosity: {mu} Pa.s\")\n",
        "print(f\"The kinematic viscosity: {nu} m^2/s\")\n",
        "print('The Prandtl number is: '+str(round(Pr ,5)))\n",
        "print('The specific heat is: '+str(round(cp ,5))+' J/kg-K')\n",
        "print('The Vol. Expansivity is: '+str(round(beta ,7))+' 1/K')\n",
        "print('The area of flat-plate solar collector is: '+str(round(A ,7))+' m^2')\n",
        "print(f'The Grashof number is: {Gr}')\n",
        "print(f'The Rayleigh number is: {Ra}')"
      ],
      "metadata": {
        "colab": {
          "base_uri": "https://localhost:8080/"
        },
        "id": "pqHd-pTHj0KM",
        "outputId": "47f9790b-6b07-4b27-e951-f77dc38c5953"
      },
      "execution_count": 73,
      "outputs": [
        {
          "output_type": "stream",
          "name": "stdout",
          "text": [
            "Enter the fluid type (e.g. water, air): air\n",
            "Enter the fluid temperature [°C]: 35\n",
            "Enter the ambient temperature [°C]: 25\n",
            "Enter the plate temperature [°C]: 40\n",
            "Enter the fluid pressure [bar]: 1\n",
            "Enter the characteristic length of the plate [m]: 1.2\n",
            "Enter the characteristic width of the plate [m]: 0.8\n",
            "The specific mass is: 1.12168 kg/m^3\n",
            "The thermal conditivity: 0.02717 W/(m-K)\n",
            "The absolut viscosity: 1.9046551029873684e-05 Pa.s\n",
            "The kinematic viscosity: 1.6980394025470106e-05 m^2/s\n",
            "The Prandtl number is: 0.70576\n",
            "The specific heat is: 1006.7867 J/kg-K\n",
            "The Vol. Expansivity is: 0.0032267 1/K\n",
            "The area of flat-plate solar collector is: 0.96 m^2\n",
            "The Grashof number is: 948505073.9964032\n",
            "The Rayleigh number is: 669414812.2587363\n"
          ]
        }
      ]
    },
    {
      "cell_type": "markdown",
      "source": [
        "#Function to calculate the  wind heat transfer coefficient (hw)"
      ],
      "metadata": {
        "id": "8cPunAaGqGGf"
      }
    },
    {
      "cell_type": "code",
      "source": [
        "\n",
        "def wind_heat_transfer_coefficient(v, L_crv):\n",
        "    \"\"\"\n",
        "    This function calculates the wind heat transfer coefficient according to McAdams' (1954) \n",
        "    recommendation by selecting the highest value between [5 and the correlation presented \n",
        "    by Mitchell (1976) for forced convection over buildings).\n",
        "    \n",
        "    Args:\n",
        "    - v: wind velocity [m/s]\n",
        "    - L_crv: L is the cube root of the house volume [m]\n",
        "    \n",
        "    Returns:\n",
        "    - The greatest value found between the result of the function and the reference value.\n",
        "    \"\"\"\n",
        "    \n",
        "    hw = (8.6 * v ** 0.6) / L_crv ** 0.4\n",
        "    return max(hw, 5)\n"
      ],
      "metadata": {
        "id": "cPs0vdla6D8r"
      },
      "execution_count": 36,
      "outputs": []
    },
    {
      "cell_type": "markdown",
      "source": [
        "#Function to calculate the top loss coefficient (Ut)"
      ],
      "metadata": {
        "id": "-zmHYr-PpjF6"
      }
    },
    {
      "cell_type": "code",
      "source": [
        "def top_loss_coefficient(N, epsilon_p, epsilon_c, Ta, Tpm, beta, hw):\n",
        "    \"\"\"\n",
        "    Calculates the top loss coefficient (Ut) using the empirical equation developed by Klein (1979) following the basic procedure of Hottel and Woertz (1942) and Klein (1975).\n",
        "    Inputs:\n",
        "        N: number of glass covers\n",
        "        epsilon_p: emittence plate\n",
        "        epsilon_c: emittence of cover material\n",
        "        T_a: ambient temperature [K]\n",
        "        T_pm: mean plate temperature [K]\n",
        "        hw: wind_heat_transfer_coefficient [W/(m^2.K)]\n",
        "    Outputs:\n",
        "        Ut: top loss coefficient [W/(m^2.K)]\n",
        "\"\"\"\n",
        "\n",
        "# Iteração para calcular U_t\n",
        "    for i in range(max_iter):\n",
        "    # Cálculo de f, C e e\n",
        "        f = (1 + 0.089*h_w - 0.1166*h_w*epsilon_p)*(1 + 0.07866*N)\n",
        "        beta_r = math.radians(beta)\n",
        "        if beta < 70:\n",
        "          C = 520*(1 - 0.000051*beta**2)\n",
        "          e = 0.430*(1 - (100/T_pm))\n",
        "        else:\n",
        "          C = 520*(1 - 0.000051*70**2)\n",
        "          e = 0.430*(1 - (100/T_pm))\n",
        "\n",
        "        U_t = ((N/((C/T_pm)*((T_pm-T_a)/(N+f))**e))+(1/h_w))**-1 + (sigma*(T_pm**2+T_a**2)*(T_pm+T_a))/((1/(epsilon_p+0.00591*N*h_w))+((2*N+f-1+0.133*epsilon_p)/(epsilon_c))-N)\n",
        "        return U_t\n"
      ],
      "metadata": {
        "id": "DjJS_LnywHyE"
      },
      "execution_count": 35,
      "outputs": []
    },
    {
      "cell_type": "markdown",
      "source": [
        "#Function to calculate the collector efficiency factor (F')"
      ],
      "metadata": {
        "id": "399KqH3VbAlY"
      }
    },
    {
      "cell_type": "code",
      "source": [
        "import math\n",
        "\n",
        "def collector_efficiency_factor(UL, Wcb, D, Fdl, Ct, D_i, h_fi):\n",
        "    # Calculate F'\n",
        "    F_l = ((1/UL)/(Wcb*((1/(UL*(D+(Wcb-D)*Fdl))+(1/Ct)+(1/(math.pi*D_i*h_fi))))))\n",
        "    F_0 = math.exp(-(UL*F_l*D)/Ct)\n",
        "    F_prime = (1 - F_0) / (UL*F_l)\n",
        "    return F_prime"
      ],
      "metadata": {
        "id": "efjKLRY6yUBh"
      },
      "execution_count": 7,
      "outputs": []
    },
    {
      "cell_type": "markdown",
      "source": [
        "# Calculating the thermal efficiency of the collector by obtaining Ut by the empirical method"
      ],
      "metadata": {
        "id": "kEowU0v7Ggny"
      }
    },
    {
      "cell_type": "markdown",
      "source": [
        "# Input data"
      ],
      "metadata": {
        "id": "GpWyNVr_MqKt"
      }
    },
    {
      "cell_type": "code",
      "source": [
        "# Entrada de dados\n",
        "sigma = 5.67e-8\n",
        "k_ins = 0.045 # W/m.K\n",
        "L_b = 0.025 # m\n",
        "E_t = 0.025 # Edge insulation thickness\n",
        "B_t = 0.0050 # Back insulation thickness\n",
        "L_cb = 10 # m Collector bank length\n",
        "W_cb = 3 # m Collector bank width\n",
        "perimeter = 2*(L_cb+W_cb) # perimeter\n",
        "A_c = L*W # área do coletor\n",
        "A_cb = L_cb*W_cb # m^2 área da borda\n",
        "m_dot = 0.02 # kg/s\n",
        "cp = cp # J/kg.K Calor especifico \n",
        "D= 0.038 #where D is the outside tube diameter \n",
        "D_i = 0.03 #where Di is the inside tube diameter \n",
        "h_fi= 300 #[W/m^2K]. hfi is the heat transfer coefficient between the fluid and the tube wall.\n",
        "C_b = 30\n",
        "\n",
        "# Initial values\n",
        "T_a = Ta+273.15 # em K. Temperatura ambiente°C\n",
        "T_fi = T_inf+273.15 # K. fluid inlet temperature in the collector.\n",
        "\n",
        "# A reasonable first guess for Tpm for liquid heating collectors operated at typical flow rates of 0.01 to 0.02 kg/m2 s is Tfi + 10∘C. For air heaters a reasonable first estimate is Tfi + 20∘C. Duffie e Backman(2020)\n",
        "T_pm = (T_fi+10) # em K. Temperatura média da placa.\n",
        "\n",
        "N = 2 # N é o número de coberturas.\n",
        "epsilon_p = 0.87 # emissividade da placa\n",
        "epsilon_c = 0.88 # emissividade da cobertura 1 (epsilon of glass = 0.88)\n",
        "beta = 20 # degrees (inclinação do coletor).\n",
        "\n",
        "# Initial values for iterative solution\n",
        "v = 2 # wind speed in [m/s]\n",
        "L_crv = 10 # L is the cube root of the house volume [m]\n",
        "h_w= wind_heat_transfer_coefficient(v, L_crv) # wind heat transfer coefficient\n",
        "print(\"O coeficiente de transferência de calor pelo vento de\", round(h_w,2), \"W/m^2.K\")"
      ],
      "metadata": {
        "colab": {
          "base_uri": "https://localhost:8080/"
        },
        "id": "43GtePaCM1Ww",
        "outputId": "abeb360d-0091-4525-f432-8d82c5e55235"
      },
      "execution_count": 83,
      "outputs": [
        {
          "output_type": "stream",
          "name": "stdout",
          "text": [
            "O coeficiente de transferência de calor pelo vento de 5.19 W/m^2.K\n"
          ]
        }
      ]
    },
    {
      "cell_type": "code",
      "source": [
        "import math\n",
        "\n",
        "#loop iterativo \n",
        "max_iter = 1000  # Número máximo de iterações\n",
        "tolerancia = 1e-6  # Tolerância para convergência\n",
        "\n",
        "# Calculate initial U_t, U_b, U_e and U_L\n",
        "U_t = top_loss_coefficient(N, epsilon_p, epsilon_c, T_a, T_pm, beta, h_w)\n",
        "U_b = k_ins/L_b\n",
        "U_e = ((k_ins/E_t)*perimeter*B_t)/(A_cb)\n",
        "U_L = U_t + U_b + U_e\n",
        "\n",
        "# Nova entrada de dados\n",
        "FR = 0.8 #collector heat removal factor FR\n",
        "F = 0.9 # Fin efficiency for tube-and-sheet solar collectors\n",
        "\n",
        "# Cálculo inicial de Qu\n",
        "alpha_abs = 0.89 #absortância\n",
        "tau = 0.9 #transmitância\n",
        "q_u = A_c*FR*((alpha_abs*tau)*irrad_total_media - (U_L)*(T_pm-T_a))\n",
        "\n",
        "# Lista para armazenar valores de Ut e T_pm\n",
        "Ut_values = []\n",
        "T_pm_values = []\n",
        "\n",
        "for i in range(max_iter):\n",
        "    # Cálculo da nova temperatura média da placa\n",
        "    T_pm_new = T_fi + ((q_u/A_c)/(FR*U_L))*(1-FR)\n",
        "    \n",
        "    # Calculate new U_L\n",
        "    U_t = top_loss_coefficient(N, epsilon_p, epsilon_c, T_a, T_pm_new, beta, h_w)\n",
        "    U_L_new = U_b + U_e + U_t\n",
        "    \n",
        "    # Calculate new FR and F_dl\n",
        "    F_l = ((1/U_L_new)/(W_cb*((1/(U_L_new*(D+(W_cb-D)*F)+(1/C_b)+(1/(math.pi*D_i*h_fi)))))))\n",
        "    FR_new = m_dot*cp/(A_c*U_L_new)*(1-math.exp(-(A_c*U_L_new*F_l)/(m_dot*cp)))\n",
        "    F_dl_new = FR_new/F_l\n",
        "    \n",
        "    # Update T_pm and U_L for next iteration\n",
        "    T_pm = T_pm_new\n",
        "    U_L = U_L_new\n",
        "    FR = FR_new\n",
        "    F_dl = F_dl_new\n",
        "    \n",
        "    # Check convergence\n",
        "    #if abs(T_pm - T_pm_new) < tolerancia:\n",
        "        #break\n",
        "\n",
        "# Verificar se os valores de F_R e F_dl convergiram\n",
        "    if abs(FR_new - FR) < tolerancia and abs(F_dl_new - F_dl) < tolerancia:\n",
        "        break\n",
        "\n",
        "    if abs(T_pm_new - T_pm) < tolerancia:\n",
        "        break\n",
        "\n",
        "# Salva os valores em listas\n",
        "#Ut_list.append(U_t)\n",
        "#T_pm_list.append(T_pm)\n",
        "effectiveness = q_u/(irrad_total_media*A_c)\n",
        "\n",
        "print(\"O coeficiente de perda de calor pelo topo (Ut) pela eq. Klein (1979): \", round(U_t,2), \"W/m^2.K\")        \n",
        "print(f\"Final value of U_L is {U_L:.2f} W/m^2.K.\")\n",
        "print(f\"Final value of FR is {FR:.2f}.\")\n",
        "print(f\"Final value of F_dl is {F_dl:.2f}.\")\n",
        "print(\"A eficientia térmica do coletor é:\", effectiveness)"
      ],
      "metadata": {
        "colab": {
          "base_uri": "https://localhost:8080/"
        },
        "id": "CBnMtwznIgC_",
        "outputId": "27501a94-4f5d-44a8-b41a-4c10cfbc4826"
      },
      "execution_count": 100,
      "outputs": [
        {
          "output_type": "stream",
          "name": "stdout",
          "text": [
            "O coeficiente de perda de calor pelo topo (Ut) pela eq. Klein (1979):  2.83 W/m^2.K\n",
            "Final value of U_L is 4.64 W/m^2.K.\n",
            "Final value of FR is 0.82.\n",
            "Final value of F_dl is 0.91.\n",
            "A eficientia térmica do coletor é: 0.45927291212424154\n"
          ]
        }
      ]
    },
    {
      "cell_type": "markdown",
      "source": [
        "# Calculating the thermal efficiency of the collector by obtaining Ut by the resistance method"
      ],
      "metadata": {
        "id": "ug7GWEUiMM5_"
      }
    },
    {
      "cell_type": "code",
      "source": [
        "from ht.conv_free_enclosed import Rac_Nusselt_Rayleigh\n",
        "Rac=Rac_Nusselt_Rayleigh(H=1.2, L=L, W=W, insulated=True)\n",
        "\n",
        "\n",
        "FR = 0.8 #collector heat removal factor FR\n",
        "\n",
        "Tceu = T_a\n",
        "Tc1 = T_pm -2 # Considerando um delta de 2° entre a placa e a primeira cobertura.\n",
        "Tc2 = (T_p) + 273.15\n",
        "epsilon_c2 = epsilon_c\n",
        "Le = 0.025#[m] Le é a distância entre a primeira cobertura e a placa absorvedora.\n",
        "T_pc = (T_pm + T_a)/2\n",
        "\n",
        "rho = CP.PropsSI(\"D\", \"T\", T_pc, \"P\", p_inf * 1e5, fluid)\n",
        "k = CP.PropsSI(\"conductivity\", \"T\", T_pc, \"P\", p_inf * 1e5, fluid)\n",
        "mu = CP.PropsSI(\"viscosity\", \"T\", T_pc, \"P\", p_inf * 1e5, fluid)\n",
        "nu = mu/rho # m^2/s\n",
        "Pr = CP.PropsSI(\"Prandtl\", \"T\", T_pc, \"P\", p_inf * 1e5, fluid)\n",
        "Gr = calc_grashof(T_pm, Tc1, g, Le)\n",
        "k_pc = CP.PropsSI(\"conductivity\", \"T\", T_pc , \"P\", p_inf * 1e5, fluid)\n",
        "Nu_H = ht.conv_free_enclosed.Nu_Nusselt_Rayleigh_Hollands(Pr, Gr, Rac=Rac) # O coeficiente de transferência de calor por convecção (hc_p_c1) pode ser encontrado a partir do número de Nusselt médio através da correlação desenvolvida por Hollands et al. (1976).\n",
        "\n",
        "hc_p_c1 = ((Nu_H*k_pc)/Le)\n",
        "hr_p_c1 = sigma*(T_pm+Tc1)*(T_pm**2+Tc1**2)/((1/epsilon_p)+(1/epsilon_c)-1) # coeficiente de transferência de calor por radiação da placa para a primeira cobertura.\n",
        "\n",
        "R3= 1/(hc_p_c1+hr_p_c1)\n",
        "\n",
        "hr_c2_a = sigma*epsilon_c2*(Tc2+Tceu)*(Tc2**2+Tceu**2) # coeficiente de transferência de calor por radiação da placa para a primeira cobertura.\n",
        "R1 = 1/(h_w+hr_c2_a)\n",
        "\n",
        "\n",
        "U_tr = 1/(R1+(2*R3))\n",
        "\n",
        "U_b = k_ins/L_b\n",
        "U_e = ((k_ins/E_t)*perimeter*B_t)/(A_cb)\n",
        "U_Lr = U_tr + U_b + U_e\n",
        "\n",
        "q_ur = A_c*FR*((alpha_abs*tau)*irrad_total_media - U_Lr*(T_pm-T_a))\n",
        "effectiveness = q_ur/(irrad_total_media*A_c)\n",
        "\n",
        "print(\"O número de Nusselt é:\", round(Nu_H ,5))\n",
        "print(\"O coeficiente de transferência de calor por convecção é:\", round(hc_p_c1 ,3), \"W/(m^2*K^4)\")\n",
        "print(\"O coeficiente de transferência de calor por radiação é:\", round(hr_p_c1,3), \"W/(m^2*K^4)\")\n",
        "\n",
        "print(\"O coeficiente de perda de calor pelo topo (U_tr) pelo método das resistências é:\", round(U_tr,2), \"W/m^2.K\")        \n",
        "print(f\"Final value of U_Lr is {U_Lr:.2f} W/m^2.K.\")\n",
        "print(\"A eficientia térmica do coletor é:\", effectiveness)\n",
        "\n"
      ],
      "metadata": {
        "colab": {
          "base_uri": "https://localhost:8080/"
        },
        "id": "JBdmYgbiuN8k",
        "outputId": "bba1bd6b-bd7f-4661-ffbe-0e4a68f45f92"
      },
      "execution_count": 99,
      "outputs": [
        {
          "output_type": "stream",
          "name": "stdout",
          "text": [
            "O número de Nusselt é: 16.03588\n",
            "O coeficiente de transferência de calor por convecção é: 17.322 W/(m^2*K^4)\n",
            "O coeficiente de transferência de calor por radiação é: 5.654 W/(m^2*K^4)\n",
            "O coeficiente de perda de calor pelo topo (U_tr) pelo método das resistências é: 5.59 W/m^2.K\n",
            "Final value of U_Lr is 7.40 W/m^2.K.\n",
            "A eficientia térmica do coletor é: 0.3514421511698035\n"
          ]
        }
      ]
    }
  ]
}